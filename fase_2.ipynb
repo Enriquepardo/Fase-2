{
 "cells": [
  {
   "attachments": {},
   "cell_type": "markdown",
   "metadata": {},
   "source": [
    "# Análisis calidad del aire"
   ]
  },
  {
   "attachments": {},
   "cell_type": "markdown",
   "metadata": {},
   "source": [
    "La preocupación por la calidad del aire en ciudades como Madrid ha impulsado la búsqueda de soluciones eficientes para purificar el aire en interiores. Utilizando la plataforma de datos abiertos Kaggle, hemos accedido a información valiosa sobre calidad del aire y purificadores disponibles en el mercado.\n",
    "\n",
    "Esta información nos ha permitido desarrollar Clean Air, un purificador de aire innovador y ecológico, diseñado para áreas urbanas. Basándonos en datos de Kaggle, hemos identificado características relevantes, establecido una estrategia de precios y distribución adecuada, y elaborado una estrategia de marketing efectiva y dirigida a nuestro público objetivo."
   ]
  },
  {
   "cell_type": "code",
   "execution_count": 2,
   "metadata": {},
   "outputs": [],
   "source": [
    "import pandas as pd\n",
    "import seaborn as sns\n",
    "import matplotlib.pyplot as plt\n",
    "import numpy as np"
   ]
  },
  {
   "cell_type": "code",
   "execution_count": 1,
   "metadata": {},
   "outputs": [],
   "source": [
    "from matplotlib.pyplot import rcParams\n",
    "\n",
    "rcParams['figure.figsize'] = 15, 8  \n",
    "rcParams[\"font.weight\"] = \"bold\"\n",
    "rcParams[\"font.size\"] = 12 \n",
    "rcParams[\"axes.labelweight\"] = \"bold\"\n"
   ]
  },
  {
   "attachments": {},
   "cell_type": "markdown",
   "metadata": {},
   "source": [
    "## Cargar los datos para el modelo"
   ]
  },
  {
   "cell_type": "code",
   "execution_count": 4,
   "metadata": {},
   "outputs": [],
   "source": [
    "df_aire = pd.read_csv(\"sep_mo19.csv\")"
   ]
  }
 ],
 "metadata": {
  "kernelspec": {
   "display_name": "Python 3",
   "language": "python",
   "name": "python3"
  },
  "language_info": {
   "codemirror_mode": {
    "name": "ipython",
    "version": 3
   },
   "file_extension": ".py",
   "mimetype": "text/x-python",
   "name": "python",
   "nbconvert_exporter": "python",
   "pygments_lexer": "ipython3",
   "version": "3.10.11"
  },
  "orig_nbformat": 4
 },
 "nbformat": 4,
 "nbformat_minor": 2
}
