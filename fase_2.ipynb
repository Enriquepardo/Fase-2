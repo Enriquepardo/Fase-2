{
 "cells": [
  {
   "attachments": {},
   "cell_type": "markdown",
   "metadata": {},
   "source": [
    "# Análisis calidad del aire"
   ]
  },
  {
   "attachments": {},
   "cell_type": "markdown",
   "metadata": {},
   "source": [
    "La preocupación por la calidad del aire en ciudades como Madrid ha impulsado la búsqueda de soluciones eficientes para purificar el aire en interiores. Utilizando la plataforma de datos abiertos Kaggle, hemos accedido a información valiosa sobre calidad del aire y purificadores disponibles en el mercado.\n",
    "\n",
    "Esta información nos ha permitido desarrollar Clean Air, un purificador de aire innovador y ecológico, diseñado para áreas urbanas. Basándonos en datos de Kaggle, hemos identificado características relevantes, establecido una estrategia de precios y distribución adecuada, y elaborado una estrategia de marketing efectiva y dirigida a nuestro público objetivo."
   ]
  }
 ],
 "metadata": {
  "language_info": {
   "name": "python"
  },
  "orig_nbformat": 4
 },
 "nbformat": 4,
 "nbformat_minor": 2
}
