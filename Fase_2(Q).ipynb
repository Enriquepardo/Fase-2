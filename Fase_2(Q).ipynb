{
 "cells": [
  {
   "attachments": {},
   "cell_type": "markdown",
   "metadata": {},
   "source": [
    "# Análisis calidad del aire.\n"
   ]
  },
  {
   "cell_type": "code",
   "execution_count": 2,
   "metadata": {},
   "outputs": [],
   "source": [
    "# importamos las librerías necesarias \n",
    "import pandas as pd\n",
    "import seaborn as sns\n",
    "import matplotlib.pyplot as plt\n",
    "import numpy as np\n",
    "%matplotlib inline"
   ]
  },
  {
   "cell_type": "code",
   "execution_count": 3,
   "metadata": {},
   "outputs": [
    {
     "data": {
      "text/html": [
       "<div>\n",
       "<style scoped>\n",
       "    .dataframe tbody tr th:only-of-type {\n",
       "        vertical-align: middle;\n",
       "    }\n",
       "\n",
       "    .dataframe tbody tr th {\n",
       "        vertical-align: top;\n",
       "    }\n",
       "\n",
       "    .dataframe thead th {\n",
       "        text-align: right;\n",
       "    }\n",
       "</style>\n",
       "<table border=\"1\" class=\"dataframe\">\n",
       "  <thead>\n",
       "    <tr style=\"text-align: right;\">\n",
       "      <th></th>\n",
       "      <th>PROVINCIA;MUNICIPIO;ESTACION;MAGNITUD;PUNTO_MUESTREO;ANO;MES;DIA;H01;V01;H02;V02;H03;V03;H04;V04;H05;V05;H06;V06;H07;V07;H08;V08;H09;V09;H10;V10;H11;V11;H12;V12;H13;V13;H14;V14;H15;V15;H16;V16;H17;V17;H18;V18;H19;V19;H20;V20;H21;V21;H22;V22;H23;V23;H24;V24</th>\n",
       "    </tr>\n",
       "  </thead>\n",
       "  <tbody>\n",
       "    <tr>\n",
       "      <th>0</th>\n",
       "      <td>28;079;4;1;28079004_1_38;2019;09;01;00009;V;00...</td>\n",
       "    </tr>\n",
       "    <tr>\n",
       "      <th>1</th>\n",
       "      <td>28;079;4;1;28079004_1_38;2019;09;02;00007;V;00...</td>\n",
       "    </tr>\n",
       "    <tr>\n",
       "      <th>2</th>\n",
       "      <td>28;079;4;1;28079004_1_38;2019;09;03;00008;V;00...</td>\n",
       "    </tr>\n",
       "    <tr>\n",
       "      <th>3</th>\n",
       "      <td>28;079;4;1;28079004_1_38;2019;09;04;00008;V;00...</td>\n",
       "    </tr>\n",
       "    <tr>\n",
       "      <th>4</th>\n",
       "      <td>28;079;4;1;28079004_1_38;2019;09;05;00007;V;00...</td>\n",
       "    </tr>\n",
       "    <tr>\n",
       "      <th>...</th>\n",
       "      <td>...</td>\n",
       "    </tr>\n",
       "    <tr>\n",
       "      <th>4582</th>\n",
       "      <td>28;079;60;14;28079060_14_6;2019;09;26;60.85;V;...</td>\n",
       "    </tr>\n",
       "    <tr>\n",
       "      <th>4583</th>\n",
       "      <td>28;079;60;14;28079060_14_6;2019;09;27;10.36;V;...</td>\n",
       "    </tr>\n",
       "    <tr>\n",
       "      <th>4584</th>\n",
       "      <td>28;079;60;14;28079060_14_6;2019;09;28;34.88;V;...</td>\n",
       "    </tr>\n",
       "    <tr>\n",
       "      <th>4585</th>\n",
       "      <td>28;079;60;14;28079060_14_6;2019;09;29;03.80;V;...</td>\n",
       "    </tr>\n",
       "    <tr>\n",
       "      <th>4586</th>\n",
       "      <td>28;079;60;14;28079060_14_6;2019;09;30;57.25;V;...</td>\n",
       "    </tr>\n",
       "  </tbody>\n",
       "</table>\n",
       "<p>4587 rows × 1 columns</p>\n",
       "</div>"
      ],
      "text/plain": [
       "     PROVINCIA;MUNICIPIO;ESTACION;MAGNITUD;PUNTO_MUESTREO;ANO;MES;DIA;H01;V01;H02;V02;H03;V03;H04;V04;H05;V05;H06;V06;H07;V07;H08;V08;H09;V09;H10;V10;H11;V11;H12;V12;H13;V13;H14;V14;H15;V15;H16;V16;H17;V17;H18;V18;H19;V19;H20;V20;H21;V21;H22;V22;H23;V23;H24;V24\n",
       "0     28;079;4;1;28079004_1_38;2019;09;01;00009;V;00...                                                                                                                                                                                                              \n",
       "1     28;079;4;1;28079004_1_38;2019;09;02;00007;V;00...                                                                                                                                                                                                              \n",
       "2     28;079;4;1;28079004_1_38;2019;09;03;00008;V;00...                                                                                                                                                                                                              \n",
       "3     28;079;4;1;28079004_1_38;2019;09;04;00008;V;00...                                                                                                                                                                                                              \n",
       "4     28;079;4;1;28079004_1_38;2019;09;05;00007;V;00...                                                                                                                                                                                                              \n",
       "...                                                 ...                                                                                                                                                                                                              \n",
       "4582  28;079;60;14;28079060_14_6;2019;09;26;60.85;V;...                                                                                                                                                                                                              \n",
       "4583  28;079;60;14;28079060_14_6;2019;09;27;10.36;V;...                                                                                                                                                                                                              \n",
       "4584  28;079;60;14;28079060_14_6;2019;09;28;34.88;V;...                                                                                                                                                                                                              \n",
       "4585  28;079;60;14;28079060_14_6;2019;09;29;03.80;V;...                                                                                                                                                                                                              \n",
       "4586  28;079;60;14;28079060_14_6;2019;09;30;57.25;V;...                                                                                                                                                                                                              \n",
       "\n",
       "[4587 rows x 1 columns]"
      ]
     },
     "execution_count": 3,
     "metadata": {},
     "output_type": "execute_result"
    }
   ],
   "source": [
    "df = pd.read_csv('..\\Fase-2\\CSVs\\sep_mo19.csv')\n",
    "df"
   ]
  },
  {
   "cell_type": "code",
   "execution_count": null,
   "metadata": {},
   "outputs": [],
   "source": []
  },
  {
   "cell_type": "code",
   "execution_count": null,
   "metadata": {},
   "outputs": [],
   "source": []
  }
 ],
 "metadata": {
  "kernelspec": {
   "display_name": "Python 3",
   "language": "python",
   "name": "python3"
  },
  "language_info": {
   "codemirror_mode": {
    "name": "ipython",
    "version": 3
   },
   "file_extension": ".py",
   "mimetype": "text/x-python",
   "name": "python",
   "nbconvert_exporter": "python",
   "pygments_lexer": "ipython3",
   "version": "3.10.11"
  },
  "orig_nbformat": 4
 },
 "nbformat": 4,
 "nbformat_minor": 2
}
