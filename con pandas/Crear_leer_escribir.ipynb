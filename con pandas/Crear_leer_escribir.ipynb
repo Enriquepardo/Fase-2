{
 "cells": [
  {
   "attachments": {},
   "cell_type": "markdown",
   "metadata": {},
   "source": [
    "Clean Air es una empresa innovadora dedicada al desarrollo y venta de avanzadas soluciones de purificación de aire. Fundada por un grupo de estudiantes de ingeniería matemática, la misión de Clean Air es mejorar la calidad del aire en hogares y oficinas alrededor del mundo.\n",
    "\n",
    "Nuestra gama de productos abarca diversos purificadores de aire equipados con tecnología de filtración y monitoreo de última generación. Estos dispositivos están diseñados para adaptarse a distintos entornos y necesidades, garantizando un ambiente más limpio y saludable para todos.\n",
    "\n",
    "El cambio climático es un problema global que genera preocupación debido al aumento de las temperaturas, eventos meteorológicos extremos y la degradación de la calidad del aire. La contaminación del aire en interiores y exteriores afecta la salud de las personas, incrementando el riesgo de enfermedades respiratorias y cardiovasculares.\n",
    "\n",
    "Los purificadores de aire Clean Air desempeñan un papel esencial en la lucha contra el cambio climático y sus efectos en la calidad del aire en interiores. Nuestros dispositivos emplean tecnologías avanzadas de filtración y monitoreo para eliminar partículas contaminantes, alérgenos y olores del aire. Además, nuestros purificadores están diseñados con eficiencia energética, reduciendo su impacto ambiental y contribuyendo a un futuro sostenible.\n",
    "\n",
    "Al mejorar la calidad del aire en hogares y oficinas, Clean Air no solo protege la salud de las personas, sino que también promueve la concienciación sobre la importancia de abordar el cambio climático y reducir la contaminación del aire en nuestras comunidades."
   ]
  },
  {
   "cell_type": "code",
   "execution_count": 10,
   "metadata": {},
   "outputs": [
    {
     "name": "stdout",
     "output_type": "stream",
     "text": [
      "          Nombre                Estudios        Rol  Experiencia\n",
      "0    Ivan Zamora  Ingeniería Informática   Fundador            5\n",
      "1  Claudia Lopez   Ingeniería Matemática  Fundadora            6\n",
      "2       Fernando   Ingeniería Matemática   Fundador            4\n",
      "3  Enrique Pardo  Ingeniería Informática   Fundador            7\n",
      "           Nombre  Precio             Descripción  \\\n",
      "0  CleanAir Basic    9.99      Suscripción básica   \n",
      "1   CleanAir Plus   19.99  Suscripción intermedia   \n",
      "2    CleanAir Pro   29.99     Suscripción premium   \n",
      "\n",
      "                                     Características  \n",
      "0               Monitoreo básico de calidad del aire  \n",
      "1  Monitoreo avanzado y recomendaciones personali...  \n",
      "2  Monitoreo avanzado, recomendaciones personaliz...  \n",
      "  Cliente                                         Testimonio\n",
      "0     Ana  Estoy muy contenta con CleanAir, mi casa se si...\n",
      "1  Carlos  CleanAir me ha ayudado a reducir mis problemas...\n",
      "2   Laura  Gracias a CleanAir, mi familia y yo podemos re...\n",
      "3   David  El servicio de atención al cliente de CleanAir...\n",
      "4   Sofía  Desde que tengo CleanAir, noto que el aire en ...\n",
      "5  Miguel  CleanAir es fácil de usar y efectivo. Lo recom...\n"
     ]
    }
   ],
   "source": [
    "import pandas as pd\n",
    "\n",
    "team_data = {\n",
    "    'Nombre': ['Ivan Zamora', 'Claudia Lopez', 'Fernando', 'Enrique Pardo'],\n",
    "    'Estudios': ['Ingeniería Informática', 'Ingeniería Matemática', 'Ingeniería Matemática', 'Ingeniería Informática'],\n",
    "    'Rol': ['Fundador', 'Fundadora', 'Fundador', 'Fundador'],\n",
    "    'Experiencia': [5, 6, 4, 7],\n",
    "}\n",
    "\n",
    "products_data = {\n",
    "    'Nombre': ['CleanAir Basic', 'CleanAir Plus', 'CleanAir Pro'],\n",
    "    'Precio': [9.99, 19.99, 29.99],\n",
    "    'Descripción': ['Suscripción básica', 'Suscripción intermedia', 'Suscripción premium'],\n",
    "    'Características': [\n",
    "        'Monitoreo básico de calidad del aire',\n",
    "        'Monitoreo avanzado y recomendaciones personalizadas',\n",
    "        'Monitoreo avanzado, recomendaciones personalizadas y soporte premium'\n",
    "    ],\n",
    "}\n",
    "\n",
    "testimonials_data = {\n",
    "    'Cliente': ['Ana', 'Carlos', 'Laura', 'David', 'Sofía', 'Miguel'],\n",
    "    'Testimonio': [\n",
    "        'Estoy muy contenta con CleanAir, mi casa se siente más fresca y saludable.',\n",
    "        'CleanAir me ha ayudado a reducir mis problemas de alergias.',\n",
    "        'Gracias a CleanAir, mi familia y yo podemos respirar mejor en nuestro hogar.',\n",
    "        'El servicio de atención al cliente de CleanAir es fantástico, siempre dispuestos a ayudar.',\n",
    "        'Desde que tengo CleanAir, noto que el aire en mi casa es mucho más limpio.',\n",
    "        'CleanAir es fácil de usar y efectivo. Lo recomiendo a todos.'\n",
    "    ],\n",
    "}\n",
    "\n",
    "team_df = pd.DataFrame(team_data)\n",
    "products_df = pd.DataFrame(products_data)\n",
    "testimonials_df = pd.DataFrame(testimonials_data)\n",
    "\n",
    "print(team_df)\n",
    "print(products_df)\n",
    "print(testimonials_df)\n"
   ]
  },
  {
   "cell_type": "code",
   "execution_count": 9,
   "metadata": {},
   "outputs": [],
   "source": [
    "team_df.to_csv('cleanair_team.csv', index=False)\n",
    "products_df.to_csv('cleanair_products.csv', index=False)\n",
    "testimonials_df.to_csv('cleanair_testimonials.csv', index=False)\n"
   ]
  },
  {
   "cell_type": "code",
   "execution_count": 8,
   "metadata": {},
   "outputs": [],
   "source": [
    "team_df_from_csv = pd.read_csv('cleanair_team.csv')\n",
    "products_df_from_csv = pd.read_csv('cleanair_products.csv')\n",
    "testimonials_df_from_csv = pd.read_csv('cleanair_testimonials.csv')\n"
   ]
  },
  {
   "attachments": {},
   "cell_type": "markdown",
   "metadata": {},
   "source": [
    "Trabajaremos con tres DataFrames cargados desde archivos CSV previamente creados. Estos DataFrames contienen información sobre el equipo de Clean Air, sus productos y testimonios de clientes.                                                                 \n",
    "\n",
    "El objetivo es  analizar y manipular datos de manera efectiva."
   ]
  },
  {
   "cell_type": "code",
   "execution_count": null,
   "metadata": {},
   "outputs": [],
   "source": []
  }
 ],
 "metadata": {
  "kernelspec": {
   "display_name": "Python 3",
   "language": "python",
   "name": "python3"
  },
  "language_info": {
   "codemirror_mode": {
    "name": "ipython",
    "version": 3
   },
   "file_extension": ".py",
   "mimetype": "text/x-python",
   "name": "python",
   "nbconvert_exporter": "python",
   "pygments_lexer": "ipython3",
   "version": "3.10.11"
  },
  "orig_nbformat": 4
 },
 "nbformat": 4,
 "nbformat_minor": 2
}
