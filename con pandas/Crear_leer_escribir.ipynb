{
 "cells": [
  {
   "attachments": {},
   "cell_type": "markdown",
   "metadata": {},
   "source": [
    "Clean Air es una empresa innovadora dedicada al desarrollo y venta de avanzadas soluciones de purificación de aire. Fundada por un grupo de estudiantes de ingeniería matemática, la misión de Clean Air es mejorar la calidad del aire en hogares y oficinas alrededor del mundo.\n",
    "\n",
    "Nuestra gama de productos abarca diversos purificadores de aire equipados con tecnología de filtración y monitoreo de última generación. Estos dispositivos están diseñados para adaptarse a distintos entornos y necesidades, garantizando un ambiente más limpio y saludable para todos.\n",
    "\n",
    "El cambio climático es un problema global que genera preocupación debido al aumento de las temperaturas, eventos meteorológicos extremos y la degradación de la calidad del aire. La contaminación del aire en interiores y exteriores afecta la salud de las personas, incrementando el riesgo de enfermedades respiratorias y cardiovasculares.\n",
    "\n",
    "Los purificadores de aire Clean Air desempeñan un papel esencial en la lucha contra el cambio climático y sus efectos en la calidad del aire en interiores. Nuestros dispositivos emplean tecnologías avanzadas de filtración y monitoreo para eliminar partículas contaminantes, alérgenos y olores del aire. Además, nuestros purificadores están diseñados con eficiencia energética, reduciendo su impacto ambiental y contribuyendo a un futuro sostenible.\n",
    "\n",
    "Al mejorar la calidad del aire en hogares y oficinas, Clean Air no solo protege la salud de las personas, sino que también promueve la concienciación sobre la importancia de abordar el cambio climático y reducir la contaminación del aire en nuestras comunidades."
   ]
  }
 ],
 "metadata": {
  "language_info": {
   "name": "python"
  },
  "orig_nbformat": 4
 },
 "nbformat": 4,
 "nbformat_minor": 2
}
